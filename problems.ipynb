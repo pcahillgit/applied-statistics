{
 "cells": [
  {
   "cell_type": "markdown",
   "id": "276e4745",
   "metadata": {},
   "source": [
    "# **Applied Statistics Problems Notebook**\n",
    "\n",
    "This notebook contains my answers to each of the four problems given in the assessmnet in the Applied Statistics module.\n",
    "\n",
    "The aim of the notebook is to show an understanding of the principals of statistics and to demonstrate the following abilities, taken from the learning outcomes of the module:\n",
    "\n",
    "- Describe the stochastic nature of real-world measurements.\n",
    "\n",
    "- Source documentation to programmatically perform a statistical test.\n",
    "\n",
    "- Select an appropriate statistical test to investigate a claim.\n",
    "\n",
    "- Perform a statistical test on a data set.\n",
    "\n",
    "Within this notebook `Code blocks` are used wherever code is referenced."
   ]
  },
  {
   "cell_type": "markdown",
   "id": "786cc049",
   "metadata": {},
   "source": [
    "***\n",
    "## Problem 1: Extending the Lady Tasting Tea\n",
    "\n",
    "In this first"
   ]
  },
  {
   "cell_type": "markdown",
   "id": "430c71d9",
   "metadata": {},
   "source": [
    "***\n",
    "## Problem 2: Normal Distribution\n",
    "\n",
    "For the second task,"
   ]
  },
  {
   "cell_type": "markdown",
   "id": "eab786a8",
   "metadata": {},
   "source": [
    "***\n",
    "## Problem 3: t-Tests\n",
    "\n",
    "For the third task,"
   ]
  },
  {
   "cell_type": "markdown",
   "id": "58cd9dc4",
   "metadata": {},
   "source": [
    "***\n",
    "## Problem 4: ANOVA\n",
    "\n",
    "In this final task"
   ]
  },
  {
   "cell_type": "markdown",
   "id": "d00898f8",
   "metadata": {},
   "source": [
    "***"
   ]
  }
 ],
 "metadata": {
  "language_info": {
   "name": "python"
  }
 },
 "nbformat": 4,
 "nbformat_minor": 5
}
