{
 "cells": [
  {
   "cell_type": "markdown",
   "id": "276e4745",
   "metadata": {},
   "source": [
    "# **Applied Statistics Problems Notebook**\n",
    "\n",
    "This notebook contains my answers to each of the four problems given in the assessmnet in the Applied Statistics module.\n",
    "\n",
    "The aim of the notebook is to show an understanding of the principals of statistics and to demonstrate the following abilities, taken from the learning outcomes of the module:\n",
    "\n",
    "- Describe the stochastic nature of real-world measurements.\n",
    "\n",
    "- Source documentation to programmatically perform a statistical test.\n",
    "\n",
    "- Select an appropriate statistical test to investigate a claim.\n",
    "\n",
    "- Perform a statistical test on a data set.\n",
    "\n",
    "Within this notebook `Code blocks` are used wherever code is referenced."
   ]
  },
  {
   "cell_type": "markdown",
   "id": "786cc049",
   "metadata": {},
   "source": [
    "***\n",
    "## Problem 1: Extending the Lady Tasting Tea\n",
    "\n",
    "The Lady Tasting Tea experiment is a randomised experiment devised by Ronald Fisher in which 8 randomly ordered cups of tea are prepared: 4 of those cups of tea are prepared with milk followed by tea and 4 get tea first followed by milk. A participant claims they can distinguish the 2 sets of cups of tea without seeing them being prepared.\n",
    "\n",
    "The null hypothesis of the experiment is that the subject drinking the tea is not able to distinguish whether the cup they are drinking from had the tea or milk poured in it first.\n",
    "\n",
    "In this first problem I will extend the Lady Tasting Tea experiment so that there are 12 cups: 8 tea-first and 4 milk-first."
   ]
  },
  {
   "cell_type": "markdown",
   "id": "430c71d9",
   "metadata": {},
   "source": [
    "***\n",
    "## Problem 2: Normal Distribution\n",
    "\n",
    "For the second task,"
   ]
  },
  {
   "cell_type": "markdown",
   "id": "eab786a8",
   "metadata": {},
   "source": [
    "***\n",
    "## Problem 3: t-Tests\n",
    "\n",
    "For the third task,"
   ]
  },
  {
   "cell_type": "markdown",
   "id": "58cd9dc4",
   "metadata": {},
   "source": [
    "***\n",
    "## Problem 4: ANOVA\n",
    "\n",
    "In this final task"
   ]
  },
  {
   "cell_type": "markdown",
   "id": "d00898f8",
   "metadata": {},
   "source": [
    "***\n",
    "\n",
    "\n",
    "## References\n",
    "\n",
    "| Author                                 | Title                                                                                                         | Blurb                           |\n",
    "| :---                                   |    :----:                                                                                                     |          :---:                  |\n",
    "| Wikimedia Commons | [ Chardin, 'A Lady Taking Tea' ](https://upload.wikimedia.org/wikipedia/commons/thumb/4/4b/Chardin_-_A_Lady_Taking_Tea%2C_1735.jpg/960px-Chardin_-_A_Lady_Taking_Tea%2C_1735.jpg) | Cover image used in this repositories README, Jean-Baptiste-Siméon Chardin: A Lady Taking Tea (1735). |\n",
    "| Ronald Fisher | The Design of Experiments (1935) | Ronald Fishers book on experimental design which contains the Lady Tasting Tea experiment. |"
   ]
  }
 ],
 "metadata": {
  "language_info": {
   "name": "python"
  }
 },
 "nbformat": 4,
 "nbformat_minor": 5
}
